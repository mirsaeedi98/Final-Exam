{
  "nbformat": 4,
  "nbformat_minor": 0,
  "metadata": {
    "colab": {
      "name": "Final_exam.ipynb",
      "provenance": [],
      "collapsed_sections": []
    },
    "kernelspec": {
      "name": "python3",
      "display_name": "Python 3"
    },
    "language_info": {
      "name": "python"
    }
  },
  "cells": [
    {
      "cell_type": "code",
      "metadata": {
        "id": "edoU_g-Zf5kB"
      },
      "source": [
        "#core libraries\n",
        "import numpy as np\n",
        "import pandas as pd\n",
        "#sklearn processing\n",
        "from sklearn.preprocessing import scale, MinMaxScaler, StandardScaler, RobustScaler\n",
        "from sklearn.preprocessing import OneHotEncoder, OrdinalEncoder\n",
        "from sklearn.model_selection import train_test_split\n",
        "from sklearn.model_selection import learning_curve,validation_curve,ShuffleSplit\n",
        "from sklearn.preprocessing import StandardScaler\n",
        "from sklearn.pipeline import make_pipeline\n",
        "from sklearn.model_selection import KFold\n",
        "from sklearn.model_selection import cross_val_predict\n",
        "from sklearn.model_selection import cross_val_score\n",
        "#sklearn Regression algorithms\n",
        "from sklearn.linear_model import LinearRegression\n",
        "from sklearn.linear_model import Ridge\n",
        "from sklearn.linear_model import Lasso\n",
        "from sklearn.neighbors import KNeighborsRegressor\n",
        "from sklearn.svm import SVR\n",
        "#sklearn Regression model evaluation functions\n",
        "from sklearn.metrics import mean_squared_error\n",
        "from sklearn.metrics import r2_score\n",
        "#plotting libraries\n",
        "import matplotlib.pyplot as plt\n",
        "import seaborn as sns"
      ],
      "execution_count": 1,
      "outputs": []
    },
    {
      "cell_type": "code",
      "metadata": {
        "colab": {
          "resources": {
            "http://localhost:8080/nbextensions/google.colab/files.js": {
              "data": "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",
              "ok": true,
              "headers": [
                [
                  "content-type",
                  "application/javascript"
                ]
              ],
              "status": 200,
              "status_text": ""
            }
          },
          "base_uri": "https://localhost:8080/",
          "height": 73
        },
        "id": "DKku3JqtgSjI",
        "outputId": "37000d07-0df7-42f7-819a-b360ef0303af"
      },
      "source": [
        "from google.colab import files\n",
        "uploaded = files.upload()"
      ],
      "execution_count": null,
      "outputs": [
        {
          "output_type": "display_data",
          "data": {
            "text/html": [
              "\n",
              "     <input type=\"file\" id=\"files-9e0f3096-847d-4ea3-9f30-724f5c3ca6e3\" name=\"files[]\" multiple disabled\n",
              "        style=\"border:none\" />\n",
              "     <output id=\"result-9e0f3096-847d-4ea3-9f30-724f5c3ca6e3\">\n",
              "      Upload widget is only available when the cell has been executed in the\n",
              "      current browser session. Please rerun this cell to enable.\n",
              "      </output>\n",
              "      <script src=\"/nbextensions/google.colab/files.js\"></script> "
            ],
            "text/plain": [
              "<IPython.core.display.HTML object>"
            ]
          },
          "metadata": {
            "tags": []
          }
        },
        {
          "output_type": "stream",
          "text": [
            "Saving BAS.csv to BAS (3).csv\n"
          ],
          "name": "stdout"
        }
      ]
    },
    {
      "cell_type": "code",
      "metadata": {
        "colab": {
          "base_uri": "https://localhost:8080/",
          "height": 417
        },
        "id": "wrySKx4OgTw0",
        "outputId": "5ca7ebaa-c931-48de-bd00-fbc478ad0cdf"
      },
      "source": [
        "data_pollution = pd.read_csv('BAS (3).csv')\n",
        "data_pollution"
      ],
      "execution_count": 2,
      "outputs": [
        {
          "output_type": "execute_result",
          "data": {
            "text/html": [
              "<div>\n",
              "<style scoped>\n",
              "    .dataframe tbody tr th:only-of-type {\n",
              "        vertical-align: middle;\n",
              "    }\n",
              "\n",
              "    .dataframe tbody tr th {\n",
              "        vertical-align: top;\n",
              "    }\n",
              "\n",
              "    .dataframe thead th {\n",
              "        text-align: right;\n",
              "    }\n",
              "</style>\n",
              "<table border=\"1\" class=\"dataframe\">\n",
              "  <thead>\n",
              "    <tr style=\"text-align: right;\">\n",
              "      <th></th>\n",
              "      <th>O₃ [µg/m³]</th>\n",
              "      <th>NO₂ [µg/m³]</th>\n",
              "      <th>SO₂ [µg/m³]</th>\n",
              "      <th>PM2.5 [µg/m³]</th>\n",
              "      <th>CPC [1/cm³]</th>\n",
              "      <th>NOₓ [µg/m³ eq. NO₂]</th>\n",
              "    </tr>\n",
              "  </thead>\n",
              "  <tbody>\n",
              "    <tr>\n",
              "      <th>0</th>\n",
              "      <td>3.7</td>\n",
              "      <td>31.1</td>\n",
              "      <td>0.9</td>\n",
              "      <td>13.5</td>\n",
              "      <td>7003.0</td>\n",
              "      <td>36.3</td>\n",
              "    </tr>\n",
              "    <tr>\n",
              "      <th>1</th>\n",
              "      <td>2.4</td>\n",
              "      <td>32.7</td>\n",
              "      <td>1.1</td>\n",
              "      <td>14.1</td>\n",
              "      <td>7322.2</td>\n",
              "      <td>40</td>\n",
              "    </tr>\n",
              "    <tr>\n",
              "      <th>2</th>\n",
              "      <td>1.9</td>\n",
              "      <td>32.2</td>\n",
              "      <td>1.2</td>\n",
              "      <td>15.9</td>\n",
              "      <td>7934.7</td>\n",
              "      <td>40.2</td>\n",
              "    </tr>\n",
              "    <tr>\n",
              "      <th>3</th>\n",
              "      <td>1.9</td>\n",
              "      <td>31.6</td>\n",
              "      <td>1.5</td>\n",
              "      <td>16.6</td>\n",
              "      <td>8642.7</td>\n",
              "      <td>41.6</td>\n",
              "    </tr>\n",
              "    <tr>\n",
              "      <th>4</th>\n",
              "      <td>2</td>\n",
              "      <td>31.5</td>\n",
              "      <td>1.2</td>\n",
              "      <td>16.6</td>\n",
              "      <td>7249.1</td>\n",
              "      <td>43.6</td>\n",
              "    </tr>\n",
              "    <tr>\n",
              "      <th>...</th>\n",
              "      <td>...</td>\n",
              "      <td>...</td>\n",
              "      <td>...</td>\n",
              "      <td>...</td>\n",
              "      <td>...</td>\n",
              "      <td>...</td>\n",
              "    </tr>\n",
              "    <tr>\n",
              "      <th>4386</th>\n",
              "      <td>161.2</td>\n",
              "      <td>6.8</td>\n",
              "      <td>0.7</td>\n",
              "      <td>5.8</td>\n",
              "      <td>7991.2</td>\n",
              "      <td>7.1</td>\n",
              "    </tr>\n",
              "    <tr>\n",
              "      <th>4387</th>\n",
              "      <td>144.4</td>\n",
              "      <td>8.5</td>\n",
              "      <td>0.9</td>\n",
              "      <td>5.1</td>\n",
              "      <td>7637.6</td>\n",
              "      <td>8.7</td>\n",
              "    </tr>\n",
              "    <tr>\n",
              "      <th>4388</th>\n",
              "      <td>123.1</td>\n",
              "      <td>9.7</td>\n",
              "      <td>0.9</td>\n",
              "      <td>5.5</td>\n",
              "      <td>8948.7</td>\n",
              "      <td>10</td>\n",
              "    </tr>\n",
              "    <tr>\n",
              "      <th>4389</th>\n",
              "      <td>100.1</td>\n",
              "      <td>10.5</td>\n",
              "      <td>0.6</td>\n",
              "      <td>7.7</td>\n",
              "      <td>8877.3</td>\n",
              "      <td>10.9</td>\n",
              "    </tr>\n",
              "    <tr>\n",
              "      <th>4390</th>\n",
              "      <td>104.3</td>\n",
              "      <td>7.4</td>\n",
              "      <td>0.5</td>\n",
              "      <td>7.4</td>\n",
              "      <td>7101.7</td>\n",
              "      <td>7.7</td>\n",
              "    </tr>\n",
              "  </tbody>\n",
              "</table>\n",
              "<p>4391 rows × 6 columns</p>\n",
              "</div>"
            ],
            "text/plain": [
              "     O₃ [µg/m³] NO₂ [µg/m³]  ... CPC [1/cm³] NOₓ [µg/m³ eq. NO₂]\n",
              "0           3.7        31.1  ...      7003.0                36.3\n",
              "1           2.4        32.7  ...      7322.2                  40\n",
              "2           1.9        32.2  ...      7934.7                40.2\n",
              "3           1.9        31.6  ...      8642.7                41.6\n",
              "4             2        31.5  ...      7249.1                43.6\n",
              "...         ...         ...  ...         ...                 ...\n",
              "4386      161.2         6.8  ...      7991.2                 7.1\n",
              "4387      144.4         8.5  ...      7637.6                 8.7\n",
              "4388      123.1         9.7  ...      8948.7                  10\n",
              "4389      100.1        10.5  ...      8877.3                10.9\n",
              "4390      104.3         7.4  ...      7101.7                 7.7\n",
              "\n",
              "[4391 rows x 6 columns]"
            ]
          },
          "metadata": {
            "tags": []
          },
          "execution_count": 2
        }
      ]
    },
    {
      "cell_type": "code",
      "metadata": {
        "colab": {
          "resources": {
            "http://localhost:8080/nbextensions/google.colab/files.js": {
              "data": "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",
              "ok": true,
              "headers": [
                [
                  "content-type",
                  "application/javascript"
                ]
              ],
              "status": 200,
              "status_text": ""
            }
          },
          "base_uri": "https://localhost:8080/",
          "height": 73
        },
        "id": "7C_uCUcQgp29",
        "outputId": "1d9871c6-f5fc-4bd9-8137-456bc27f74d1"
      },
      "source": [
        "from google.colab import files\n",
        "uploaded = files.upload()"
      ],
      "execution_count": null,
      "outputs": [
        {
          "output_type": "display_data",
          "data": {
            "text/html": [
              "\n",
              "     <input type=\"file\" id=\"files-729acb8b-5097-465b-9d84-23f2f2635f67\" name=\"files[]\" multiple disabled\n",
              "        style=\"border:none\" />\n",
              "     <output id=\"result-729acb8b-5097-465b-9d84-23f2f2635f67\">\n",
              "      Upload widget is only available when the cell has been executed in the\n",
              "      current browser session. Please rerun this cell to enable.\n",
              "      </output>\n",
              "      <script src=\"/nbextensions/google.colab/files.js\"></script> "
            ],
            "text/plain": [
              "<IPython.core.display.HTML object>"
            ]
          },
          "metadata": {
            "tags": []
          }
        },
        {
          "output_type": "stream",
          "text": [
            "Saving dataexport_20210624T151236.csv to dataexport_20210624T151236 (2).csv\n"
          ],
          "name": "stdout"
        }
      ]
    },
    {
      "cell_type": "code",
      "metadata": {
        "colab": {
          "base_uri": "https://localhost:8080/",
          "height": 417
        },
        "id": "aktex9azkEYB",
        "outputId": "a3e4ab59-98a3-4c06-f85d-cdb4242352bf"
      },
      "source": [
        "data_weather = pd.read_csv('dataexport_20210624T151236 (2).csv')\n",
        "data_weather"
      ],
      "execution_count": 3,
      "outputs": [
        {
          "output_type": "execute_result",
          "data": {
            "text/html": [
              "<div>\n",
              "<style scoped>\n",
              "    .dataframe tbody tr th:only-of-type {\n",
              "        vertical-align: middle;\n",
              "    }\n",
              "\n",
              "    .dataframe tbody tr th {\n",
              "        vertical-align: top;\n",
              "    }\n",
              "\n",
              "    .dataframe thead th {\n",
              "        text-align: right;\n",
              "    }\n",
              "</style>\n",
              "<table border=\"1\" class=\"dataframe\">\n",
              "  <thead>\n",
              "    <tr style=\"text-align: right;\">\n",
              "      <th></th>\n",
              "      <th>Date</th>\n",
              "      <th>Temperature</th>\n",
              "      <th>Relative Humidity</th>\n",
              "      <th>Wind Speed</th>\n",
              "      <th>Wind Direction</th>\n",
              "    </tr>\n",
              "  </thead>\n",
              "  <tbody>\n",
              "    <tr>\n",
              "      <th>0</th>\n",
              "      <td>1</td>\n",
              "      <td>4.730528</td>\n",
              "      <td>81</td>\n",
              "      <td>10.041354</td>\n",
              "      <td>104.534454</td>\n",
              "    </tr>\n",
              "    <tr>\n",
              "      <th>1</th>\n",
              "      <td>2</td>\n",
              "      <td>5.260529</td>\n",
              "      <td>79</td>\n",
              "      <td>9.000000</td>\n",
              "      <td>106.260200</td>\n",
              "    </tr>\n",
              "    <tr>\n",
              "      <th>2</th>\n",
              "      <td>3</td>\n",
              "      <td>5.810529</td>\n",
              "      <td>75</td>\n",
              "      <td>10.829958</td>\n",
              "      <td>111.447740</td>\n",
              "    </tr>\n",
              "    <tr>\n",
              "      <th>3</th>\n",
              "      <td>4</td>\n",
              "      <td>5.900528</td>\n",
              "      <td>76</td>\n",
              "      <td>8.759178</td>\n",
              "      <td>99.462320</td>\n",
              "    </tr>\n",
              "    <tr>\n",
              "      <th>4</th>\n",
              "      <td>5</td>\n",
              "      <td>5.690528</td>\n",
              "      <td>77</td>\n",
              "      <td>10.308831</td>\n",
              "      <td>102.094760</td>\n",
              "    </tr>\n",
              "    <tr>\n",
              "      <th>...</th>\n",
              "      <td>...</td>\n",
              "      <td>...</td>\n",
              "      <td>...</td>\n",
              "      <td>...</td>\n",
              "      <td>...</td>\n",
              "    </tr>\n",
              "    <tr>\n",
              "      <th>4386</th>\n",
              "      <td>19</td>\n",
              "      <td>28.970530</td>\n",
              "      <td>36</td>\n",
              "      <td>11.090103</td>\n",
              "      <td>346.865970</td>\n",
              "    </tr>\n",
              "    <tr>\n",
              "      <th>4387</th>\n",
              "      <td>20</td>\n",
              "      <td>28.260529</td>\n",
              "      <td>37</td>\n",
              "      <td>8.427383</td>\n",
              "      <td>340.016900</td>\n",
              "    </tr>\n",
              "    <tr>\n",
              "      <th>4388</th>\n",
              "      <td>21</td>\n",
              "      <td>27.060530</td>\n",
              "      <td>42</td>\n",
              "      <td>7.100310</td>\n",
              "      <td>329.534450</td>\n",
              "    </tr>\n",
              "    <tr>\n",
              "      <th>4389</th>\n",
              "      <td>22</td>\n",
              "      <td>25.770529</td>\n",
              "      <td>48</td>\n",
              "      <td>4.104631</td>\n",
              "      <td>307.875000</td>\n",
              "    </tr>\n",
              "    <tr>\n",
              "      <th>4390</th>\n",
              "      <td>23</td>\n",
              "      <td>24.240528</td>\n",
              "      <td>54</td>\n",
              "      <td>3.600000</td>\n",
              "      <td>270.000000</td>\n",
              "    </tr>\n",
              "  </tbody>\n",
              "</table>\n",
              "<p>4391 rows × 5 columns</p>\n",
              "</div>"
            ],
            "text/plain": [
              "      Date  Temperature  Relative Humidity  Wind Speed  Wind Direction\n",
              "0        1     4.730528                 81   10.041354      104.534454\n",
              "1        2     5.260529                 79    9.000000      106.260200\n",
              "2        3     5.810529                 75   10.829958      111.447740\n",
              "3        4     5.900528                 76    8.759178       99.462320\n",
              "4        5     5.690528                 77   10.308831      102.094760\n",
              "...    ...          ...                ...         ...             ...\n",
              "4386    19    28.970530                 36   11.090103      346.865970\n",
              "4387    20    28.260529                 37    8.427383      340.016900\n",
              "4388    21    27.060530                 42    7.100310      329.534450\n",
              "4389    22    25.770529                 48    4.104631      307.875000\n",
              "4390    23    24.240528                 54    3.600000      270.000000\n",
              "\n",
              "[4391 rows x 5 columns]"
            ]
          },
          "metadata": {
            "tags": []
          },
          "execution_count": 3
        }
      ]
    },
    {
      "cell_type": "code",
      "metadata": {
        "id": "Lhqpxxn5_fuu"
      },
      "source": [
        "oh_enc = OneHotEncoder( )\n",
        "oh_labels = oh_enc.fit_transform(data_weather[['Date']] ).toarray()"
      ],
      "execution_count": 49,
      "outputs": []
    },
    {
      "cell_type": "code",
      "metadata": {
        "id": "-6FMewlzkUE3"
      },
      "source": [
        "CBC = data_pollution['CPC [1/cm³]']\n",
        "PM = data_pollution['PM2.5 [µg/m³]']\n",
        "SO2 = data_pollution['SO₂ [µg/m³]']\n",
        "NO2 = data_pollution['NO₂ [µg/m³]']\n",
        "O3 = data_pollution['O₃ [µg/m³]']\n",
        "NOX = data_pollution['NOₓ [µg/m³ eq. NO₂]']\n",
        "Temperature = data_weather['Temperature']\n",
        "Humidity = data_weather['Relative Humidity']\n",
        "Wind_speed = data_weather['Wind Speed']\n",
        "Date = data_weather['Date']"
      ],
      "execution_count": 112,
      "outputs": []
    },
    {
      "cell_type": "code",
      "metadata": {
        "colab": {
          "base_uri": "https://localhost:8080/"
        },
        "id": "uzQN25flRRK8",
        "outputId": "636d147f-51a8-42b3-8b3a-275eb77d3a88"
      },
      "source": [
        "# Missing data\n",
        "for i in range(4391):\n",
        "  if(PM[i] == '-'):\n",
        "    PM[i] = 0\n",
        "  if(SO2[i] == '-'):\n",
        "    SO2[i] = 0\n",
        "  if(NO2[i] == '-'):\n",
        "    NO2[i] = 0\n",
        "  if(O3[i] == '-'):\n",
        "    O3[i] = 0\n",
        "  if(NOX[i] == '-'):\n",
        "    NOX[i] = 0"
      ],
      "execution_count": 68,
      "outputs": [
        {
          "output_type": "stream",
          "text": [
            "/usr/local/lib/python3.7/dist-packages/ipykernel_launcher.py:4: SettingWithCopyWarning: \n",
            "A value is trying to be set on a copy of a slice from a DataFrame\n",
            "\n",
            "See the caveats in the documentation: https://pandas.pydata.org/pandas-docs/stable/user_guide/indexing.html#returning-a-view-versus-a-copy\n",
            "  after removing the cwd from sys.path.\n"
          ],
          "name": "stderr"
        }
      ]
    },
    {
      "cell_type": "code",
      "metadata": {
        "id": "_ALC8g9qsnLc"
      },
      "source": [
        "Data_Input_CBC = np.zeros((4391-24,24+3+5+1+1))\n",
        "Data_output_CBC = np.zeros((4391-24,1))\n",
        "Data_Input_PM = np.zeros((4391-24,24+3+5+1+1))\n",
        "Data_output_PM = np.zeros((4391-24,1))\n",
        "Data_Input_SO2 = np.zeros((4391-24,24+3+5+1+1))\n",
        "Data_output_SO2 = np.zeros((4391-24,1))\n",
        "Data_Input_NO2 = np.zeros((4391-24,24+3+5+1+1))\n",
        "Data_output_NO2 = np.zeros((4391-24,1))\n",
        "Data_Input_O3 = np.zeros((4391-24,24+3+5+1+1))\n",
        "Data_output_O3 = np.zeros((4391-24,1))\n",
        "Data_Input_NOX = np.zeros((4391-24,24+3+5+1+1))\n",
        "Data_output_NOX = np.zeros((4391-24,1))"
      ],
      "execution_count": 111,
      "outputs": []
    },
    {
      "cell_type": "code",
      "metadata": {
        "id": "pjeExloBsr2h"
      },
      "source": [
        "#Data of input data and output data\n",
        "for i in range(4391-24):\n",
        "  for j in range(24):\n",
        "    Data_Input_CBC[i][j] = CBC[i+j]\n",
        "    Data_Input_PM[i][j] = PM[i+j]\n",
        "    Data_Input_SO2[i][j] = SO2[i+j]\n",
        "    Data_Input_NO2[i][j] = NO2[i+j]\n",
        "    Data_Input_O3[i][j] = O3[i+j]\n",
        "    Data_Input_NOX[i][j] = NOX[i+j]\n",
        "  \n",
        "  for k in range(3):\n",
        "    Data_Input_CBC[i][24+k] = Humidity[i+k+22]\n",
        "    Data_Input_PM[i][24+k] = Humidity[i+k+22]\n",
        "    Data_Input_SO2[i][24+k] = Humidity[i+k+22]\n",
        "    Data_Input_NO2[i][24+k] = Humidity[i+k+22]\n",
        "    Data_Input_O3[i][24+k] = Humidity[i+k+22]\n",
        "    Data_Input_NOX[i][24+k] = Humidity[i+k+22]\n",
        "  \n",
        "  for l in range(5):\n",
        "    Data_Input_CBC[i][27+l] = Wind_speed[i+l+20]\n",
        "    Data_Input_PM[i][27+l] = Wind_speed[i+l+20]\n",
        "    Data_Input_SO2[i][27+l] = Wind_speed[i+l+20]\n",
        "    Data_Input_NO2[i][27+l] = Wind_speed[i+l+20]\n",
        "    Data_Input_O3[i][27+l] = Wind_speed[i+l+20]\n",
        "    Data_Input_NOX[i][27+l] = Wind_speed[i+l+20]\n",
        "  \n",
        "  Data_Input_CBC[i][32] = Temperature[i+24]\n",
        "  Data_Input_PM[i][32] = Temperature[i+24]\n",
        "  Data_Input_SO2[i][32] = Temperature[i+24]\n",
        "  Data_Input_NO2[i][32] = Temperature[i+24]\n",
        "  Data_Input_O3[i][32] = Temperature[i+24]\n",
        "  Data_Input_NOX[i][32] = Temperature[i+24]\n",
        "\n",
        "  Data_Input_CBC[i][33] = Date[i+24]\n",
        "  Data_Input_PM[i][33] = Date[i+24]\n",
        "  Data_Input_SO2[i][33] = Date[i+24]\n",
        "  Data_Input_NO2[i][33] = Date[i+24]\n",
        "  Data_Input_O3[i][33] = Date[i+24]\n",
        "  Data_Input_NOX[i][33] = Date[i+24]\n",
        "\n",
        "  Data_output_CBC[i][0] = CBC[i+24]\n",
        "  Data_output_PM[i][0] = PM[i+24]\n",
        "  Data_output_SO2[i][0] = SO2[i+24]\n",
        "  Data_output_NO2[i][0] = NO2[i+24]\n",
        "  Data_output_O3[i][0] = O3[i+24]\n",
        "  Data_output_NOX[i][0] = NOX[i+24]"
      ],
      "execution_count": 113,
      "outputs": []
    },
    {
      "cell_type": "code",
      "metadata": {
        "id": "_bYPlNyG9FSj"
      },
      "source": [
        "#Preparing input data for CBC\n",
        "s_scaler = StandardScaler()\n",
        "Data_Input_CBC_sscaled = s_scaler.fit_transform(Data_Input_CBC) "
      ],
      "execution_count": 114,
      "outputs": []
    },
    {
      "cell_type": "code",
      "metadata": {
        "id": "1QeQW-utNqn6"
      },
      "source": [
        "#Preparing input data for PM\n",
        "s_scaler = StandardScaler()\n",
        "Data_Input_PM_sscaled = s_scaler.fit_transform(Data_Input_PM) "
      ],
      "execution_count": 115,
      "outputs": []
    },
    {
      "cell_type": "code",
      "metadata": {
        "id": "ESrHPbNlNv7g"
      },
      "source": [
        "#Preparing input data for SO2\n",
        "s_scaler = StandardScaler()\n",
        "Data_Input_SO2_sscaled = s_scaler.fit_transform(Data_Input_SO2) "
      ],
      "execution_count": 116,
      "outputs": []
    },
    {
      "cell_type": "code",
      "metadata": {
        "id": "9gVrzcJDOFsX"
      },
      "source": [
        "#Preparing input data for NO2\n",
        "s_scaler = StandardScaler()\n",
        "Data_Input_NO2_sscaled = s_scaler.fit_transform(Data_Input_NO2) "
      ],
      "execution_count": 117,
      "outputs": []
    },
    {
      "cell_type": "code",
      "metadata": {
        "id": "vMJqot1wOXtp"
      },
      "source": [
        "#Preparing input data for NOX\n",
        "s_scaler = StandardScaler()\n",
        "Data_Input_NOX_sscaled = s_scaler.fit_transform(Data_Input_NOX) "
      ],
      "execution_count": 118,
      "outputs": []
    },
    {
      "cell_type": "code",
      "metadata": {
        "id": "fmeziHfgOjrf"
      },
      "source": [
        "#Preparing input data for O3\n",
        "s_scaler = StandardScaler()\n",
        "Data_Input_O3_sscaled = s_scaler.fit_transform(Data_Input_O3) "
      ],
      "execution_count": 119,
      "outputs": []
    },
    {
      "cell_type": "code",
      "metadata": {
        "id": "Tl0oGIgL9JkC"
      },
      "source": [
        "#Preparing output data for CBC\n",
        "s_scaler = StandardScaler()\n",
        "Data_output_CBC_sscaled = s_scaler.fit_transform(Data_output_CBC) "
      ],
      "execution_count": 120,
      "outputs": []
    },
    {
      "cell_type": "code",
      "metadata": {
        "id": "uVYvRQxLOzRN"
      },
      "source": [
        "#Preparing output data for PM\n",
        "s_scaler = StandardScaler()\n",
        "Data_output_PM_sscaled = s_scaler.fit_transform(Data_output_PM) "
      ],
      "execution_count": 121,
      "outputs": []
    },
    {
      "cell_type": "code",
      "metadata": {
        "id": "GMT4Z82NO0q1"
      },
      "source": [
        "#Preparing output data for SO2\n",
        "s_scaler = StandardScaler()\n",
        "Data_output_SO2_sscaled = s_scaler.fit_transform(Data_output_SO2) "
      ],
      "execution_count": 122,
      "outputs": []
    },
    {
      "cell_type": "code",
      "metadata": {
        "id": "4lcfKXNSO1TZ"
      },
      "source": [
        "#Preparing output data for NO2\n",
        "s_scaler = StandardScaler()\n",
        "Data_output_NO2_sscaled = s_scaler.fit_transform(Data_output_NO2) "
      ],
      "execution_count": 123,
      "outputs": []
    },
    {
      "cell_type": "code",
      "metadata": {
        "id": "sIN23pFtO1-V"
      },
      "source": [
        "#Preparing output data for NOX\n",
        "s_scaler = StandardScaler()\n",
        "Data_output_NOX_sscaled = s_scaler.fit_transform(Data_output_NOX) "
      ],
      "execution_count": 124,
      "outputs": []
    },
    {
      "cell_type": "code",
      "metadata": {
        "id": "B4a5UNtFO2gJ"
      },
      "source": [
        "#Preparing output data for O3\n",
        "s_scaler = StandardScaler()\n",
        "Data_output_O3_sscaled = s_scaler.fit_transform(Data_output_O3) "
      ],
      "execution_count": 125,
      "outputs": []
    },
    {
      "cell_type": "markdown",
      "metadata": {
        "id": "fgdiD7U6PhTy"
      },
      "source": [
        "**Predicting** **CBC** "
      ]
    },
    {
      "cell_type": "code",
      "metadata": {
        "colab": {
          "base_uri": "https://localhost:8080/"
        },
        "id": "wAsqp7lu-gEf",
        "outputId": "553bf588-e109-4cdd-e9cc-a2cd037f9a2f"
      },
      "source": [
        "#split data into train-test set (67% training and 33% testing data) for CBC\n",
        "X_train,X_test,Y_train,Y_test=train_test_split(Data_Input_CBC_sscaled,Data_output_CBC_sscaled,test_size=0.33,random_state=42)\n",
        "print(f'The shape of our training set is : {X_train.shape}')\n",
        "print(f'The shape of our testing set is : {X_test.shape}')"
      ],
      "execution_count": 126,
      "outputs": [
        {
          "output_type": "stream",
          "text": [
            "The shape of our training set is : (2925, 34)\n",
            "The shape of our testing set is : (1442, 34)\n"
          ],
          "name": "stdout"
        }
      ]
    },
    {
      "cell_type": "code",
      "metadata": {
        "colab": {
          "base_uri": "https://localhost:8080/"
        },
        "id": "5g-iii8_Gdff",
        "outputId": "8f1c1396-b800-4678-9946-df1a7dc12f26"
      },
      "source": [
        "# LinearRegression - check the model performance / accuracy using Mean squared error (MSE) For CBC\n",
        "reg=LinearRegression()\n",
        "reg.fit(X_train,Y_train)\n",
        "print(f'The training score is :{reg.score(X_train,Y_train)}')\n",
        "print('-'*70)\n",
        "print(f'The testing score is : {reg.score(X_test,Y_test)}')\n",
        "print('-'*70)\n",
        "Y_pred_reg=reg.predict(X_test)\n",
        "print(f'MSE :{mean_squared_error(Y_pred_reg,Y_test)}')\n",
        "print('-'*70)\n",
        "print(f'RMSE :{np.sqrt(mean_squared_error(Y_pred_reg,Y_test))}')"
      ],
      "execution_count": 127,
      "outputs": [
        {
          "output_type": "stream",
          "text": [
            "The training score is :0.7484446779511081\n",
            "----------------------------------------------------------------------\n",
            "The testing score is : 0.7226411651794491\n",
            "----------------------------------------------------------------------\n",
            "MSE :0.27917469699357095\n",
            "----------------------------------------------------------------------\n",
            "RMSE :0.5283698486794747\n"
          ],
          "name": "stdout"
        }
      ]
    },
    {
      "cell_type": "code",
      "metadata": {
        "colab": {
          "base_uri": "https://localhost:8080/",
          "height": 295
        },
        "id": "2vMW12rcGf_r",
        "outputId": "44f578ce-58a1-4493-d51a-d683a7f34169"
      },
      "source": [
        "#learning curve for linear regression for CBC\n",
        "def plot_learning_curve(estimator,title,X,Y,ylim=None,cv=None,\n",
        "                        n_jobs=-1,train_sizes=np.linspace(0.1,1,10)):\n",
        "  plt.figure()\n",
        "  plt.title(title)\n",
        "  plt.xlabel('Training examples')\n",
        "  plt.ylabel('score')\n",
        "\n",
        "  train_sizes,train_scores,test_scores= learning_curve(estimator,X,Y,cv=cv,\n",
        "                                                       n_jobs=n_jobs,train_sizes=train_sizes)\n",
        "  train_scores_mean=np.mean(train_scores,axis=1)\n",
        "  train_scores_std=np.std(train_scores,axis=1)\n",
        "  test_scores_mean=np.mean(test_scores,axis=1)\n",
        "  test_scores_std=np.std(test_scores,axis=1)\n",
        "\n",
        "  plt.grid()\n",
        "  plt.fill_between(train_sizes,train_scores_mean - train_scores_std,\n",
        "                   train_scores_mean + train_scores_std, alpha=0.1, color='c')\n",
        "  plt.fill_between(train_sizes,test_scores_mean - test_scores_std,\n",
        "                   test_scores_mean + test_scores_std, alpha=0.1, color='r')\n",
        "  \n",
        "  plt.plot(train_sizes,train_scores_mean, marker='o', color='c', label='Training score')\n",
        "  plt.plot(train_sizes,test_scores_mean, marker='o', color='r', label=' Cross Validation score')\n",
        "\n",
        "  plt.legend(loc=0)\n",
        "  return plt\n",
        "title= 'Learning curve for linear Regression for CBC'\n",
        "cv=ShuffleSplit(n_splits=100, test_size=0.33,random_state=42)\n",
        "estimator=LinearRegression()\n",
        "plot_learning_curve(estimator,title,Data_Input_CBC_sscaled,Data_output_CBC_sscaled,ylim=(0.7,1.01),cv=cv,n_jobs=-1)\n",
        "plt.show()"
      ],
      "execution_count": 128,
      "outputs": [
        {
          "output_type": "display_data",
          "data": {
            "image/png": "[encoded data removed]",
            "text/plain": [
              "<Figure size 432x288 with 1 Axes>"
            ]
          },
          "metadata": {
            "tags": [],
            "needs_background": "light"
          }
        }
      ]
    },
    {
      "cell_type": "markdown",
      "metadata": {
        "id": "hJiZ2SVOPtIl"
      },
      "source": [
        "**Predicting PM**"
      ]
    },
    {
      "cell_type": "code",
      "metadata": {
        "colab": {
          "base_uri": "https://localhost:8080/"
        },
        "id": "0BrOEKRGMgku",
        "outputId": "58e27eac-7a45-4ec0-9edd-2ca5b56ebae5"
      },
      "source": [
        "#split data into train-test set (67% training and 33% testing data) for PM\n",
        "X_train,X_test,Y_train,Y_test=train_test_split(Data_Input_PM_sscaled,Data_output_PM_sscaled,test_size=0.33,random_state=42)\n",
        "print(f'The shape of our training set is : {X_train.shape}')\n",
        "print(f'The shape of our testing set is : {X_test.shape}')"
      ],
      "execution_count": 129,
      "outputs": [
        {
          "output_type": "stream",
          "text": [
            "The shape of our training set is : (2925, 34)\n",
            "The shape of our testing set is : (1442, 34)\n"
          ],
          "name": "stdout"
        }
      ]
    },
    {
      "cell_type": "code",
      "metadata": {
        "colab": {
          "base_uri": "https://localhost:8080/"
        },
        "id": "tA-tuAutP7xI",
        "outputId": "e1ff7722-39f3-4a23-a2c0-8dfd1b411f9c"
      },
      "source": [
        "# LinearRegression - check the model performance / accuracy using Mean squared error (MSE) For PM\n",
        "reg=LinearRegression()\n",
        "reg.fit(X_train,Y_train)\n",
        "print(f'The training score is :{reg.score(X_train,Y_train)}')\n",
        "print('-'*70)\n",
        "print(f'The testing score is : {reg.score(X_test,Y_test)}')\n",
        "print('-'*70)\n",
        "Y_pred_reg=reg.predict(X_test)\n",
        "print(f'MSE :{mean_squared_error(Y_pred_reg,Y_test)}')\n",
        "print('-'*70)\n",
        "print(f'RMSE :{np.sqrt(mean_squared_error(Y_pred_reg,Y_test))}')"
      ],
      "execution_count": 130,
      "outputs": [
        {
          "output_type": "stream",
          "text": [
            "The training score is :0.9446601825940998\n",
            "----------------------------------------------------------------------\n",
            "The testing score is : 0.9446104039094516\n",
            "----------------------------------------------------------------------\n",
            "MSE :0.05744820240696843\n",
            "----------------------------------------------------------------------\n",
            "RMSE :0.23968354638349382\n"
          ],
          "name": "stdout"
        }
      ]
    },
    {
      "cell_type": "code",
      "metadata": {
        "colab": {
          "base_uri": "https://localhost:8080/",
          "height": 295
        },
        "id": "47egYj-YP_iU",
        "outputId": "55d8fc78-3e5a-4f57-fa9d-5f8b37790b44"
      },
      "source": [
        "#learning curve for linear regression for PM\n",
        "def plot_learning_curve(estimator,title,X,Y,ylim=None,cv=None,\n",
        "                        n_jobs=-1,train_sizes=np.linspace(0.1,1,10)):\n",
        "  plt.figure()\n",
        "  plt.title(title)\n",
        "  plt.xlabel('Training examples')\n",
        "  plt.ylabel('score')\n",
        "\n",
        "  train_sizes,train_scores,test_scores= learning_curve(estimator,X,Y,cv=cv,\n",
        "                                                       n_jobs=n_jobs,train_sizes=train_sizes)\n",
        "  train_scores_mean=np.mean(train_scores,axis=1)\n",
        "  train_scores_std=np.std(train_scores,axis=1)\n",
        "  test_scores_mean=np.mean(test_scores,axis=1)\n",
        "  test_scores_std=np.std(test_scores,axis=1)\n",
        "\n",
        "  plt.grid()\n",
        "  plt.fill_between(train_sizes,train_scores_mean - train_scores_std,\n",
        "                   train_scores_mean + train_scores_std, alpha=0.1, color='c')\n",
        "  plt.fill_between(train_sizes,test_scores_mean - test_scores_std,\n",
        "                   test_scores_mean + test_scores_std, alpha=0.1, color='r')\n",
        "  \n",
        "  plt.plot(train_sizes,train_scores_mean, marker='o', color='c', label='Training score')\n",
        "  plt.plot(train_sizes,test_scores_mean, marker='o', color='r', label=' Cross Validation score')\n",
        "\n",
        "  plt.legend(loc=0)\n",
        "  return plt\n",
        "title= 'Learning curve for linear Regression for PM'\n",
        "cv=ShuffleSplit(n_splits=100, test_size=0.33,random_state=42)\n",
        "estimator=LinearRegression()\n",
        "plot_learning_curve(estimator,title,Data_Input_PM_sscaled,Data_output_PM_sscaled,ylim=(0.7,1.01),cv=cv,n_jobs=-1)\n",
        "plt.show()"
      ],
      "execution_count": 131,
      "outputs": [
        {
          "output_type": "display_data",
          "data": {
            "image/png": "[encoded data removed]",
            "text/plain": [
              "<Figure size 432x288 with 1 Axes>"
            ]
          },
          "metadata": {
            "tags": [],
            "needs_background": "light"
          }
        }
      ]
    },
    {
      "cell_type": "markdown",
      "metadata": {
        "id": "pYvDE2PQSzEK"
      },
      "source": [
        "**Predicting SO2**"
      ]
    },
    {
      "cell_type": "code",
      "metadata": {
        "colab": {
          "base_uri": "https://localhost:8080/"
        },
        "id": "rXBixCPiSYAL",
        "outputId": "13c338ca-4738-4f09-ea2e-24a065ee100f"
      },
      "source": [
        "#split data into train-test set (67% training and 33% testing data) for SO2\n",
        "X_train,X_test,Y_train,Y_test=train_test_split(Data_Input_SO2_sscaled,Data_output_SO2_sscaled,test_size=0.33,random_state=42)\n",
        "print(f'The shape of our training set is : {X_train.shape}')\n",
        "print(f'The shape of our testing set is : {X_test.shape}')"
      ],
      "execution_count": 132,
      "outputs": [
        {
          "output_type": "stream",
          "text": [
            "The shape of our training set is : (2925, 34)\n",
            "The shape of our testing set is : (1442, 34)\n"
          ],
          "name": "stdout"
        }
      ]
    },
    {
      "cell_type": "code",
      "metadata": {
        "colab": {
          "base_uri": "https://localhost:8080/"
        },
        "id": "f4R2WM6BS6j_",
        "outputId": "6920fa0c-e339-4a74-80f6-ee965ce9f95a"
      },
      "source": [
        "# LinearRegression - check the model performance / accuracy using Mean squared error (MSE) For SO2\n",
        "reg=LinearRegression()\n",
        "reg.fit(X_train,Y_train)\n",
        "print(f'The training score is :{reg.score(X_train,Y_train)}')\n",
        "print('-'*70)\n",
        "print(f'The testing score is : {reg.score(X_test,Y_test)}')\n",
        "print('-'*70)\n",
        "Y_pred_reg=reg.predict(X_test)\n",
        "print(f'MSE :{mean_squared_error(Y_pred_reg,Y_test)}')\n",
        "print('-'*70)\n",
        "print(f'RMSE :{np.sqrt(mean_squared_error(Y_pred_reg,Y_test))}')"
      ],
      "execution_count": 133,
      "outputs": [
        {
          "output_type": "stream",
          "text": [
            "The training score is :0.5320065578190092\n",
            "----------------------------------------------------------------------\n",
            "The testing score is : 0.7177233962439263\n",
            "----------------------------------------------------------------------\n",
            "MSE :0.22308359938279979\n",
            "----------------------------------------------------------------------\n",
            "RMSE :0.47231726559887666\n"
          ],
          "name": "stdout"
        }
      ]
    },
    {
      "cell_type": "code",
      "metadata": {
        "colab": {
          "base_uri": "https://localhost:8080/",
          "height": 295
        },
        "id": "Ui5xT7qXTCL5",
        "outputId": "caec4418-a6d7-469f-a9a8-9edd810dd20c"
      },
      "source": [
        "#learning curve for linear regression for SO2\n",
        "def plot_learning_curve(estimator,title,X,Y,ylim=None,cv=None,\n",
        "                        n_jobs=-1,train_sizes=np.linspace(0.1,1,10)):\n",
        "  plt.figure()\n",
        "  plt.title(title)\n",
        "  plt.xlabel('Training examples')\n",
        "  plt.ylabel('score')\n",
        "\n",
        "  train_sizes,train_scores,test_scores= learning_curve(estimator,X,Y,cv=cv,\n",
        "                                                       n_jobs=n_jobs,train_sizes=train_sizes)\n",
        "  train_scores_mean=np.mean(train_scores,axis=1)\n",
        "  train_scores_std=np.std(train_scores,axis=1)\n",
        "  test_scores_mean=np.mean(test_scores,axis=1)\n",
        "  test_scores_std=np.std(test_scores,axis=1)\n",
        "\n",
        "  plt.grid()\n",
        "  plt.fill_between(train_sizes,train_scores_mean - train_scores_std,\n",
        "                   train_scores_mean + train_scores_std, alpha=0.1, color='c')\n",
        "  plt.fill_between(train_sizes,test_scores_mean - test_scores_std,\n",
        "                   test_scores_mean + test_scores_std, alpha=0.1, color='r')\n",
        "  \n",
        "  plt.plot(train_sizes,train_scores_mean, marker='o', color='c', label='Training score')\n",
        "  plt.plot(train_sizes,test_scores_mean, marker='o', color='r', label=' Cross Validation score')\n",
        "\n",
        "  plt.legend(loc=0)\n",
        "  return plt\n",
        "title= 'Learning curve for linear Regression for SO2'\n",
        "cv=ShuffleSplit(n_splits=100, test_size=0.33,random_state=42)\n",
        "estimator=LinearRegression()\n",
        "plot_learning_curve(estimator,title,Data_Input_SO2_sscaled,Data_output_SO2_sscaled,ylim=(0.7,1.01),cv=cv,n_jobs=-1)\n",
        "plt.show()"
      ],
      "execution_count": 134,
      "outputs": [
        {
          "output_type": "display_data",
          "data": {
            "image/png": "[encoded data removed]",
            "text/plain": [
              "<Figure size 432x288 with 1 Axes>"
            ]
          },
          "metadata": {
            "tags": [],
            "needs_background": "light"
          }
        }
      ]
    },
    {
      "cell_type": "markdown",
      "metadata": {
        "id": "OyFm06U0TLOC"
      },
      "source": [
        "**Predicting NO2**"
      ]
    },
    {
      "cell_type": "code",
      "metadata": {
        "colab": {
          "base_uri": "https://localhost:8080/"
        },
        "id": "ysV_-CdaTI-H",
        "outputId": "ee5db069-177b-4796-c52b-6e4e4056374d"
      },
      "source": [
        "#split data into train-test set (67% training and 33% testing data) for NO2\n",
        "X_train,X_test,Y_train,Y_test=train_test_split(Data_Input_NO2_sscaled,Data_output_NO2_sscaled,test_size=0.33,random_state=42)\n",
        "print(f'The shape of our training set is : {X_train.shape}')\n",
        "print(f'The shape of our testing set is : {X_test.shape}')"
      ],
      "execution_count": 135,
      "outputs": [
        {
          "output_type": "stream",
          "text": [
            "The shape of our training set is : (2925, 34)\n",
            "The shape of our testing set is : (1442, 34)\n"
          ],
          "name": "stdout"
        }
      ]
    },
    {
      "cell_type": "code",
      "metadata": {
        "colab": {
          "base_uri": "https://localhost:8080/"
        },
        "id": "QrLkg6z_TqDM",
        "outputId": "4ed35415-271b-424e-d59d-22ad5825d6cc"
      },
      "source": [
        "# LinearRegression - check the model performance / accuracy using Mean squared error (MSE) For NO2\n",
        "reg=LinearRegression()\n",
        "reg.fit(X_train,Y_train)\n",
        "print(f'The training score is :{reg.score(X_train,Y_train)}')\n",
        "print('-'*70)\n",
        "print(f'The testing score is : {reg.score(X_test,Y_test)}')\n",
        "print('-'*70)\n",
        "Y_pred_reg=reg.predict(X_test)\n",
        "print(f'MSE :{mean_squared_error(Y_pred_reg,Y_test)}')\n",
        "print('-'*70)\n",
        "print(f'RMSE :{np.sqrt(mean_squared_error(Y_pred_reg,Y_test))}')"
      ],
      "execution_count": 136,
      "outputs": [
        {
          "output_type": "stream",
          "text": [
            "The training score is :0.8644943061945417\n",
            "----------------------------------------------------------------------\n",
            "The testing score is : 0.8294567500252494\n",
            "----------------------------------------------------------------------\n",
            "MSE :0.1758957572155463\n",
            "----------------------------------------------------------------------\n",
            "RMSE :0.419399281372234\n"
          ],
          "name": "stdout"
        }
      ]
    },
    {
      "cell_type": "code",
      "metadata": {
        "colab": {
          "base_uri": "https://localhost:8080/",
          "height": 295
        },
        "id": "b4c3ZVDUTt9u",
        "outputId": "f528ec26-6eb9-4900-9364-fa8fc5150b73"
      },
      "source": [
        "#learning curve for linear regression for NO2\n",
        "def plot_learning_curve(estimator,title,X,Y,ylim=None,cv=None,\n",
        "                        n_jobs=-1,train_sizes=np.linspace(0.1,1,10)):\n",
        "  plt.figure()\n",
        "  plt.title(title)\n",
        "  plt.xlabel('Training examples')\n",
        "  plt.ylabel('score')\n",
        "\n",
        "  train_sizes,train_scores,test_scores= learning_curve(estimator,X,Y,cv=cv,\n",
        "                                                       n_jobs=n_jobs,train_sizes=train_sizes)\n",
        "  train_scores_mean=np.mean(train_scores,axis=1)\n",
        "  train_scores_std=np.std(train_scores,axis=1)\n",
        "  test_scores_mean=np.mean(test_scores,axis=1)\n",
        "  test_scores_std=np.std(test_scores,axis=1)\n",
        "\n",
        "  plt.grid()\n",
        "  plt.fill_between(train_sizes,train_scores_mean - train_scores_std,\n",
        "                   train_scores_mean + train_scores_std, alpha=0.1, color='c')\n",
        "  plt.fill_between(train_sizes,test_scores_mean - test_scores_std,\n",
        "                   test_scores_mean + test_scores_std, alpha=0.1, color='r')\n",
        "  \n",
        "  plt.plot(train_sizes,train_scores_mean, marker='o', color='c', label='Training score')\n",
        "  plt.plot(train_sizes,test_scores_mean, marker='o', color='r', label=' Cross Validation score')\n",
        "\n",
        "  plt.legend(loc=0)\n",
        "  return plt\n",
        "title= 'Learning curve for linear Regression for NO2'\n",
        "cv=ShuffleSplit(n_splits=100, test_size=0.33,random_state=42)\n",
        "estimator=LinearRegression()\n",
        "plot_learning_curve(estimator,title,Data_Input_NO2_sscaled,Data_output_NO2_sscaled,ylim=(0.7,1.01),cv=cv,n_jobs=-1)\n",
        "plt.show()"
      ],
      "execution_count": 137,
      "outputs": [
        {
          "output_type": "display_data",
          "data": {
            "image/png": "[encoded data removed]",
            "text/plain": [
              "<Figure size 432x288 with 1 Axes>"
            ]
          },
          "metadata": {
            "tags": [],
            "needs_background": "light"
          }
        }
      ]
    },
    {
      "cell_type": "markdown",
      "metadata": {
        "id": "FA_Jh5I7T5uK"
      },
      "source": [
        "**Predecting** **NOX**"
      ]
    },
    {
      "cell_type": "code",
      "metadata": {
        "colab": {
          "base_uri": "https://localhost:8080/"
        },
        "id": "Cze_Z4emT2LT",
        "outputId": "abc9f238-2b02-4882-b484-80f9a4b6d2f6"
      },
      "source": [
        "#split data into train-test set (67% training and 33% testing data) for NOX\n",
        "X_train,X_test,Y_train,Y_test=train_test_split(Data_Input_NOX_sscaled,Data_output_NOX_sscaled,test_size=0.33,random_state=42)\n",
        "print(f'The shape of our training set is : {X_train.shape}')\n",
        "print(f'The shape of our testing set is : {X_test.shape}')"
      ],
      "execution_count": 138,
      "outputs": [
        {
          "output_type": "stream",
          "text": [
            "The shape of our training set is : (2925, 34)\n",
            "The shape of our testing set is : (1442, 34)\n"
          ],
          "name": "stdout"
        }
      ]
    },
    {
      "cell_type": "code",
      "metadata": {
        "colab": {
          "base_uri": "https://localhost:8080/"
        },
        "id": "RTZfGGY5UCVG",
        "outputId": "ea7e2f08-448f-45e6-e290-990bad307da9"
      },
      "source": [
        "# LinearRegression - check the model performance / accuracy using Mean squared error (MSE) For NOX\n",
        "reg=LinearRegression()\n",
        "reg.fit(X_train,Y_train)\n",
        "print(f'The training score is :{reg.score(X_train,Y_train)}')\n",
        "print('-'*70)\n",
        "print(f'The testing score is : {reg.score(X_test,Y_test)}')\n",
        "print('-'*70)\n",
        "Y_pred_reg=reg.predict(X_test)\n",
        "print(f'MSE :{mean_squared_error(Y_pred_reg,Y_test)}')\n",
        "print('-'*70)\n",
        "print(f'RMSE :{np.sqrt(mean_squared_error(Y_pred_reg,Y_test))}')"
      ],
      "execution_count": 139,
      "outputs": [
        {
          "output_type": "stream",
          "text": [
            "The training score is :0.8330009364218681\n",
            "----------------------------------------------------------------------\n",
            "The testing score is : 0.798227160547869\n",
            "----------------------------------------------------------------------\n",
            "MSE :0.20623448344994663\n",
            "----------------------------------------------------------------------\n",
            "RMSE :0.4541304696339441\n"
          ],
          "name": "stdout"
        }
      ]
    },
    {
      "cell_type": "code",
      "metadata": {
        "colab": {
          "base_uri": "https://localhost:8080/",
          "height": 295
        },
        "id": "wgEjihKbUJQz",
        "outputId": "e89ee2eb-0437-41c6-c77f-4c5c283309af"
      },
      "source": [
        "#learning curve for linear regression for NOX\n",
        "def plot_learning_curve(estimator,title,X,Y,ylim=None,cv=None,\n",
        "                        n_jobs=-1,train_sizes=np.linspace(0.1,1,10)):\n",
        "  plt.figure()\n",
        "  plt.title(title)\n",
        "  plt.xlabel('Training examples')\n",
        "  plt.ylabel('score')\n",
        "\n",
        "  train_sizes,train_scores,test_scores= learning_curve(estimator,X,Y,cv=cv,\n",
        "                                                       n_jobs=n_jobs,train_sizes=train_sizes)\n",
        "  train_scores_mean=np.mean(train_scores,axis=1)\n",
        "  train_scores_std=np.std(train_scores,axis=1)\n",
        "  test_scores_mean=np.mean(test_scores,axis=1)\n",
        "  test_scores_std=np.std(test_scores,axis=1)\n",
        "\n",
        "  plt.grid()\n",
        "  plt.fill_between(train_sizes,train_scores_mean - train_scores_std,\n",
        "                   train_scores_mean + train_scores_std, alpha=0.1, color='c')\n",
        "  plt.fill_between(train_sizes,test_scores_mean - test_scores_std,\n",
        "                   test_scores_mean + test_scores_std, alpha=0.1, color='r')\n",
        "  \n",
        "  plt.plot(train_sizes,train_scores_mean, marker='o', color='c', label='Training score')\n",
        "  plt.plot(train_sizes,test_scores_mean, marker='o', color='r', label=' Cross Validation score')\n",
        "\n",
        "  plt.legend(loc=0)\n",
        "  return plt\n",
        "title= 'Learning curve for linear Regression for NOX'\n",
        "cv=ShuffleSplit(n_splits=100, test_size=0.33,random_state=42)\n",
        "estimator=LinearRegression()\n",
        "plot_learning_curve(estimator,title,Data_Input_NOX_sscaled,Data_output_NOX_sscaled,ylim=(0.7,1.01),cv=cv,n_jobs=-1)\n",
        "plt.show()"
      ],
      "execution_count": 140,
      "outputs": [
        {
          "output_type": "display_data",
          "data": {
            "image/png": "[encoded data removed]",
            "text/plain": [
              "<Figure size 432x288 with 1 Axes>"
            ]
          },
          "metadata": {
            "tags": [],
            "needs_background": "light"
          }
        }
      ]
    },
    {
      "cell_type": "markdown",
      "metadata": {
        "id": "4gzMuFFzUQ4G"
      },
      "source": [
        "**Predicting O3**"
      ]
    },
    {
      "cell_type": "code",
      "metadata": {
        "colab": {
          "base_uri": "https://localhost:8080/"
        },
        "id": "Ucynwr0SUP--",
        "outputId": "2c516794-73fa-4133-ebf1-1565fda608bd"
      },
      "source": [
        "#split data into train-test set (67% training and 33% testing data) for O3\n",
        "X_train,X_test,Y_train,Y_test=train_test_split(Data_Input_O3_sscaled,Data_output_O3_sscaled,test_size=0.33,random_state=42)\n",
        "print(f'The shape of our training set is : {X_train.shape}')\n",
        "print(f'The shape of our testing set is : {X_test.shape}')"
      ],
      "execution_count": 141,
      "outputs": [
        {
          "output_type": "stream",
          "text": [
            "The shape of our training set is : (2925, 34)\n",
            "The shape of our testing set is : (1442, 34)\n"
          ],
          "name": "stdout"
        }
      ]
    },
    {
      "cell_type": "code",
      "metadata": {
        "colab": {
          "base_uri": "https://localhost:8080/"
        },
        "id": "V6e8hs4yUeg3",
        "outputId": "cbc18927-257a-4889-d5a6-7a2886c3bfac"
      },
      "source": [
        "# LinearRegression - check the model performance / accuracy using Mean squared error (MSE) For O3\n",
        "reg=LinearRegression()\n",
        "reg.fit(X_train,Y_train)\n",
        "print(f'The training score is :{reg.score(X_train,Y_train)}')\n",
        "print('-'*70)\n",
        "print(f'The testing score is : {reg.score(X_test,Y_test)}')\n",
        "print('-'*70)\n",
        "Y_pred_reg=reg.predict(X_test)\n",
        "print(f'MSE :{mean_squared_error(Y_pred_reg,Y_test)}')\n",
        "print('-'*70)\n",
        "print(f'RMSE :{np.sqrt(mean_squared_error(Y_pred_reg,Y_test))}')"
      ],
      "execution_count": 142,
      "outputs": [
        {
          "output_type": "stream",
          "text": [
            "The training score is :0.9261028953132592\n",
            "----------------------------------------------------------------------\n",
            "The testing score is : 0.9363408220980755\n",
            "----------------------------------------------------------------------\n",
            "MSE :0.06438745257576799\n",
            "----------------------------------------------------------------------\n",
            "RMSE :0.2537468277156741\n"
          ],
          "name": "stdout"
        }
      ]
    },
    {
      "cell_type": "code",
      "metadata": {
        "colab": {
          "base_uri": "https://localhost:8080/",
          "height": 295
        },
        "id": "1jrUO4kTUkpt",
        "outputId": "f7ad6b9a-3a1e-457f-fa76-3218efa4c108"
      },
      "source": [
        "#learning curve for linear regression for O3\n",
        "def plot_learning_curve(estimator,title,X,Y,ylim=None,cv=None,\n",
        "                        n_jobs=-1,train_sizes=np.linspace(0.1,1,10)):\n",
        "  plt.figure()\n",
        "  plt.title(title)\n",
        "  plt.xlabel('Training examples')\n",
        "  plt.ylabel('score')\n",
        "\n",
        "  train_sizes,train_scores,test_scores= learning_curve(estimator,X,Y,cv=cv,\n",
        "                                                       n_jobs=n_jobs,train_sizes=train_sizes)\n",
        "  train_scores_mean=np.mean(train_scores,axis=1)\n",
        "  train_scores_std=np.std(train_scores,axis=1)\n",
        "  test_scores_mean=np.mean(test_scores,axis=1)\n",
        "  test_scores_std=np.std(test_scores,axis=1)\n",
        "\n",
        "  plt.grid()\n",
        "  plt.fill_between(train_sizes,train_scores_mean - train_scores_std,\n",
        "                   train_scores_mean + train_scores_std, alpha=0.1, color='c')\n",
        "  plt.fill_between(train_sizes,test_scores_mean - test_scores_std,\n",
        "                   test_scores_mean + test_scores_std, alpha=0.1, color='r')\n",
        "  \n",
        "  plt.plot(train_sizes,train_scores_mean, marker='o', color='c', label='Training score')\n",
        "  plt.plot(train_sizes,test_scores_mean, marker='o', color='r', label=' Cross Validation score')\n",
        "\n",
        "  plt.legend(loc=0)\n",
        "  return plt\n",
        "title= 'Learning curve for linear Regression for O3'\n",
        "cv=ShuffleSplit(n_splits=100, test_size=0.33,random_state=42)\n",
        "estimator=LinearRegression()\n",
        "plot_learning_curve(estimator,title,Data_Input_O3_sscaled,Data_output_O3_sscaled,ylim=(0.7,1.01),cv=cv,n_jobs=-1)\n",
        "plt.show()"
      ],
      "execution_count": 143,
      "outputs": [
        {
          "output_type": "display_data",
          "data": {
            "image/png": "[encoded data removed]",
            "text/plain": [
              "<Figure size 432x288 with 1 Axes>"
            ]
          },
          "metadata": {
            "tags": [],
            "needs_background": "light"
          }
        }
      ]
    },
    {
      "cell_type": "code",
      "metadata": {
        "id": "w3_EaZjFUx3q"
      },
      "source": [
        ""
      ],
      "execution_count": 143,
      "outputs": []
    }
  ]
}